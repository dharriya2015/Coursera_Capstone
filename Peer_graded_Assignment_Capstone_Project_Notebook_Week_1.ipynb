{
  "nbformat": 4,
  "nbformat_minor": 0,
  "metadata": {
    "colab": {
      "name": "Peer-graded Assignment: Capstone Project Notebook Week 1",
      "provenance": []
    },
    "kernelspec": {
      "name": "python3",
      "display_name": "Python 3"
    }
  },
  "cells": [
    {
      "cell_type": "markdown",
      "metadata": {
        "id": "MQRze8yDkQGY"
      },
      "source": [
        "#Peer-graded Assignment: Capstone Project Notebook **Week 1**"
      ]
    },
    {
      "cell_type": "markdown",
      "metadata": {
        "id": "0H0H9tPTkjcO"
      },
      "source": [
        "To start a Jupyter Notebook using any platform and do the following:\r\n",
        "\r\n",
        "*   Import the pandas library as pd.\r\n",
        "*   Import the Numpy library as np.\r\n",
        "*   Print the following the statement: Hello Capstone Project Course!"
      ]
    },
    {
      "cell_type": "code",
      "metadata": {
        "id": "85aa82j6j-JQ"
      },
      "source": [
        "import pandas as pd\r\n",
        "import numpy as np"
      ],
      "execution_count": 1,
      "outputs": []
    },
    {
      "cell_type": "code",
      "metadata": {
        "colab": {
          "base_uri": "https://localhost:8080/"
        },
        "id": "XtL4ca8mkH25",
        "outputId": "ebff9294-8112-4c61-b2a8-ea91f2bb94f4"
      },
      "source": [
        "print('Hello Capstone Project Course!')"
      ],
      "execution_count": 2,
      "outputs": [
        {
          "output_type": "stream",
          "text": [
            "Hello Capstone Project Course!\n"
          ],
          "name": "stdout"
        }
      ]
    }
  ]
}